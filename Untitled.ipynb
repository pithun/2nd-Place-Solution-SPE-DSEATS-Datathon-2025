{
 "cells": [
  {
   "cell_type": "markdown",
   "id": "abb88a32-95e3-491e-a8b9-836bf747ea01",
   "metadata": {},
   "source": [
    "# Imports"
   ]
  },
  {
   "cell_type": "code",
   "execution_count": 4,
   "id": "7ab05bb1-d067-4878-8e38-0f82f5e552a2",
   "metadata": {},
   "outputs": [],
   "source": [
    "# import libraries here; add more as necessary\n",
    "# Ignoring warnings\n",
    "import warnings\n",
    "warnings.filterwarnings('ignore')\n",
    "\n",
    "# Data Manipulation\n",
    "import pandas as pd\n",
    "\n",
    "# enabling full display of a row content in a data frame\n",
    "pd.set_option('display.max_colwidth', None)\n",
    "\n",
    "# Option to suppress scientific notation in Pandas\n",
    "pd.set_option('display.float_format', lambda x: '%.3f' % x)\n",
    "\n",
    "import numpy as np\n",
    "from scipy import stats\n",
    "import math\n",
    "import itertools\n",
    "import random\n",
    "\n",
    "# Visualization\n",
    "import matplotlib.pyplot as plt\n",
    "import seaborn as sns\n",
    "from sklearn.tree import plot_tree\n",
    "\n",
    "# DevOps modules\n",
    "import os\n",
    "import time\n",
    "\n",
    "# Feature Selection\n",
    "from sklearn.feature_selection import RFECV\n",
    "from sklearn.inspection import permutation_importance\n",
    "\n",
    "# Modelling\n",
    "# Using a Classifier Chain\n",
    "from sklearn.multioutput import ClassifierChain\n",
    "\n",
    "# Using a single multi-output classifier algorithm\n",
    "\n",
    "\n",
    "from sklearn.linear_model import LinearRegression\n",
    "from sklearn.linear_model import SGDRegressor\n",
    "from sklearn.linear_model import Lasso\n",
    "from sklearn.linear_model import Ridge\n",
    "\n",
    "from sklearn.model_selection import KFold\n",
    "from sklearn.tree import DecisionTreeRegressor\n",
    "from sklearn.ensemble import AdaBoostRegressor\n",
    "from sklearn.ensemble import GradientBoostingRegressor\n",
    "from sklearn.svm import SVR\n",
    "\n",
    "# HyperParameter Tuning\n",
    "# import optuna\n",
    "\n",
    "# Data Scaling\n",
    "from sklearn.preprocessing import StandardScaler\n",
    "from sklearn.preprocessing import MinMaxScaler\n",
    "\n",
    "import numpy as np\n",
    "import pandas as pd\n",
    "import matplotlib.pyplot as plt\n",
    "import seaborn as sns\n",
    "from sklearn.impute import SimpleImputer\n",
    "from sklearn.preprocessing import StandardScaler\n",
    "from sklearn.decomposition import PCA\n",
    "from sklearn.cluster import KMeans\n",
    "\n",
    "# magic word for producing visualizations in notebook\n",
    "%matplotlib inline"
   ]
  },
  {
   "cell_type": "code",
   "execution_count": 6,
   "id": "3a65ed8e-dee8-41ff-b3f4-a6572b46952c",
   "metadata": {},
   "outputs": [],
   "source": [
    "# Reading the data\n",
    "well_df=pd.read_csv('Data/spe_africa_dseats_datathon_2025_wells_dataset.csv')"
   ]
  },
  {
   "cell_type": "code",
   "execution_count": 8,
   "id": "e5869d65-b810-4e54-8362-505ea7ca3057",
   "metadata": {},
   "outputs": [
    {
     "data": {
      "text/html": [
       "<div>\n",
       "<style scoped>\n",
       "    .dataframe tbody tr th:only-of-type {\n",
       "        vertical-align: middle;\n",
       "    }\n",
       "\n",
       "    .dataframe tbody tr th {\n",
       "        vertical-align: top;\n",
       "    }\n",
       "\n",
       "    .dataframe thead th {\n",
       "        text-align: right;\n",
       "    }\n",
       "</style>\n",
       "<table border=\"1\" class=\"dataframe\">\n",
       "  <thead>\n",
       "    <tr style=\"text-align: right;\">\n",
       "      <th></th>\n",
       "      <th>PROD_DATE</th>\n",
       "      <th>WELL_NAME</th>\n",
       "      <th>ON_STREAM_HRS</th>\n",
       "      <th>BOTTOMHOLE_FLOWING_PRESSURE (PSI)</th>\n",
       "      <th>DOWNHOLE_TEMPERATURE (deg F)</th>\n",
       "      <th>ANNULUS_PRESS (PSI)</th>\n",
       "      <th>CHOKE_SIZE (%)</th>\n",
       "      <th>WELL_HEAD_PRESSURE (PSI)</th>\n",
       "      <th>WELL_HEAD_TEMPERATURE (deg F)</th>\n",
       "      <th>CUMULATIVE_OIL_PROD (STB)</th>\n",
       "      <th>CUMULATIVE_FORMATION_GAS_PROD (MSCF)</th>\n",
       "      <th>CUMULATIVE_TOTAL_GAS_PROD (MSCF)</th>\n",
       "      <th>CUMULATIVE_WATER_PROD (BBL)</th>\n",
       "    </tr>\n",
       "  </thead>\n",
       "  <tbody>\n",
       "    <tr>\n",
       "      <th>0</th>\n",
       "      <td>15-Feb-14</td>\n",
       "      <td>Well_#1</td>\n",
       "      <td>0.000</td>\n",
       "      <td>4,050</td>\n",
       "      <td>189.866</td>\n",
       "      <td>0</td>\n",
       "      <td>1.180</td>\n",
       "      <td>482.46</td>\n",
       "      <td>50.864</td>\n",
       "      <td>0</td>\n",
       "      <td>0</td>\n",
       "      <td>0</td>\n",
       "      <td>0</td>\n",
       "    </tr>\n",
       "    <tr>\n",
       "      <th>1</th>\n",
       "      <td>16-Feb-14</td>\n",
       "      <td>Well_#1</td>\n",
       "      <td>0.000</td>\n",
       "      <td>3,961</td>\n",
       "      <td>189.945</td>\n",
       "      <td>0</td>\n",
       "      <td>2.994</td>\n",
       "      <td>328.601</td>\n",
       "      <td>47.668</td>\n",
       "      <td>0</td>\n",
       "      <td>0</td>\n",
       "      <td>0</td>\n",
       "      <td>0</td>\n",
       "    </tr>\n",
       "    <tr>\n",
       "      <th>2</th>\n",
       "      <td>17-Feb-14</td>\n",
       "      <td>Well_#1</td>\n",
       "      <td>0.000</td>\n",
       "      <td>3,961</td>\n",
       "      <td>190.004</td>\n",
       "      <td>0</td>\n",
       "      <td>1.903</td>\n",
       "      <td>387.218</td>\n",
       "      <td>48.962</td>\n",
       "      <td>0</td>\n",
       "      <td>0</td>\n",
       "      <td>0</td>\n",
       "      <td>0</td>\n",
       "    </tr>\n",
       "    <tr>\n",
       "      <th>3</th>\n",
       "      <td>18-Feb-14</td>\n",
       "      <td>Well_#1</td>\n",
       "      <td>0.000</td>\n",
       "      <td>3,964</td>\n",
       "      <td>190.020</td>\n",
       "      <td>0</td>\n",
       "      <td>0.000</td>\n",
       "      <td>308.98</td>\n",
       "      <td>46.636</td>\n",
       "      <td>0</td>\n",
       "      <td>0</td>\n",
       "      <td>0</td>\n",
       "      <td>0</td>\n",
       "    </tr>\n",
       "    <tr>\n",
       "      <th>4</th>\n",
       "      <td>19-Feb-14</td>\n",
       "      <td>Well_#1</td>\n",
       "      <td>0.000</td>\n",
       "      <td>3,965</td>\n",
       "      <td>190.107</td>\n",
       "      <td>0</td>\n",
       "      <td>30.208</td>\n",
       "      <td>196.057</td>\n",
       "      <td>47.297</td>\n",
       "      <td>0</td>\n",
       "      <td>0</td>\n",
       "      <td>0</td>\n",
       "      <td>0</td>\n",
       "    </tr>\n",
       "  </tbody>\n",
       "</table>\n",
       "</div>"
      ],
      "text/plain": [
       "   PROD_DATE WELL_NAME  ON_STREAM_HRS BOTTOMHOLE_FLOWING_PRESSURE (PSI)  \\\n",
       "0  15-Feb-14   Well_#1          0.000                             4,050   \n",
       "1  16-Feb-14   Well_#1          0.000                             3,961   \n",
       "2  17-Feb-14   Well_#1          0.000                             3,961   \n",
       "3  18-Feb-14   Well_#1          0.000                             3,964   \n",
       "4  19-Feb-14   Well_#1          0.000                             3,965   \n",
       "\n",
       "   DOWNHOLE_TEMPERATURE (deg F) ANNULUS_PRESS (PSI)  CHOKE_SIZE (%)  \\\n",
       "0                       189.866                   0           1.180   \n",
       "1                       189.945                   0           2.994   \n",
       "2                       190.004                   0           1.903   \n",
       "3                       190.020                   0           0.000   \n",
       "4                       190.107                   0          30.208   \n",
       "\n",
       "  WELL_HEAD_PRESSURE (PSI)  WELL_HEAD_TEMPERATURE (deg F)  \\\n",
       "0                   482.46                         50.864   \n",
       "1                  328.601                         47.668   \n",
       "2                  387.218                         48.962   \n",
       "3                   308.98                         46.636   \n",
       "4                  196.057                         47.297   \n",
       "\n",
       "  CUMULATIVE_OIL_PROD (STB) CUMULATIVE_FORMATION_GAS_PROD (MSCF)  \\\n",
       "0                         0                                    0   \n",
       "1                         0                                    0   \n",
       "2                         0                                    0   \n",
       "3                         0                                    0   \n",
       "4                         0                                    0   \n",
       "\n",
       "  CUMULATIVE_TOTAL_GAS_PROD (MSCF) CUMULATIVE_WATER_PROD (BBL)  \n",
       "0                                0                           0  \n",
       "1                                0                           0  \n",
       "2                                0                           0  \n",
       "3                                0                           0  \n",
       "4                                0                           0  "
      ]
     },
     "execution_count": 8,
     "metadata": {},
     "output_type": "execute_result"
    }
   ],
   "source": [
    "well_df.head()"
   ]
  },
  {
   "cell_type": "code",
   "execution_count": 9,
   "id": "978e43e0-9bd7-4971-8a59-7a74fa47b755",
   "metadata": {},
   "outputs": [
    {
     "name": "stdout",
     "output_type": "stream",
     "text": [
      "The Dataset has for 7955 rows and 13 columns\n"
     ]
    }
   ],
   "source": [
    "# Preliminary Informations\n",
    "print('The Dataset has for {} rows and {} columns'.format(well_df.shape[0], well_df.shape[1]))"
   ]
  },
  {
   "cell_type": "markdown",
   "id": "f8f26874-3cb8-4912-93b3-e261f8700068",
   "metadata": {},
   "source": [
    "<a name=\"Cleaning\"></a>\n",
    "## 1. Data Cleaning"
   ]
  },
  {
   "cell_type": "markdown",
   "id": "ccc64650-07e6-4d52-8e60-f4cb426b5eca",
   "metadata": {},
   "source": [
    "## Shortening the Column Names"
   ]
  },
  {
   "cell_type": "code",
   "execution_count": 11,
   "id": "bc47d697-3f78-4655-a325-76987bcce61b",
   "metadata": {},
   "outputs": [
    {
     "data": {
      "text/plain": [
       "Index(['PROD_DATE', 'WELL_NAME', 'ON_STREAM_HRS',\n",
       "       'BOTTOMHOLE_FLOWING_PRESSURE (PSI)', 'DOWNHOLE_TEMPERATURE (deg F)',\n",
       "       'ANNULUS_PRESS (PSI)', 'CHOKE_SIZE (%)', 'WELL_HEAD_PRESSURE (PSI)',\n",
       "       'WELL_HEAD_TEMPERATURE (deg F)', 'CUMULATIVE_OIL_PROD (STB)',\n",
       "       'CUMULATIVE_FORMATION_GAS_PROD (MSCF)',\n",
       "       'CUMULATIVE_TOTAL_GAS_PROD (MSCF)', 'CUMULATIVE_WATER_PROD (BBL)'],\n",
       "      dtype='object')"
      ]
     },
     "execution_count": 11,
     "metadata": {},
     "output_type": "execute_result"
    }
   ],
   "source": [
    "# Listing all columns in current training data\n",
    "well_df.columns"
   ]
  },
  {
   "cell_type": "code",
   "execution_count": 12,
   "id": "665787d6-7f0f-467b-93dc-29fc906f5226",
   "metadata": {},
   "outputs": [],
   "source": [
    "# Creating a dictionary to map old names to new names\n",
    "rename_map={'PROD_DATE':'date', 'WELL_NAME':'well_name', 'ON_STREAM_HRS':'on_str_hrs', 'BOTTOMHOLE_FLOWING_PRESSURE (PSI)':'bottom_hole_psi',\n",
    "            'DOWNHOLE_TEMPERATURE (deg F)':'downhole_temp', 'ANNULUS_PRESS (PSI)':'Annulus_p', 'CHOKE_SIZE (%)':'choke_size',\n",
    "            'WELL_HEAD_PRESSURE (PSI)':'whp', 'WELL_HEAD_TEMPERATURE (deg F)':'wht', 'CUMULATIVE_OIL_PROD (STB)':'cumm_oil_stb',\n",
    "            'CUMULATIVE_FORMATION_GAS_PROD (MSCF)':'cumm_form_gas_mscf', 'CUMULATIVE_TOTAL_GAS_PROD (MSCF)':'cumm_total_gas_mscf', \n",
    "            'CUMULATIVE_WATER_PROD (BBL)':'cumm_water_bbl'}"
   ]
  },
  {
   "cell_type": "code",
   "execution_count": 13,
   "id": "19f0d4f0-002b-4b1d-bc05-831c10cec64d",
   "metadata": {},
   "outputs": [],
   "source": [
    "# Renaming columns \"INPLACE\"\n",
    "well_df.rename(columns=rename_map, inplace=True)"
   ]
  },
  {
   "cell_type": "code",
   "execution_count": 15,
   "id": "65bef66c-fbbc-4df0-85bd-6eb7f5685eed",
   "metadata": {
    "scrolled": true
   },
   "outputs": [
    {
     "data": {
      "text/html": [
       "<div>\n",
       "<style scoped>\n",
       "    .dataframe tbody tr th:only-of-type {\n",
       "        vertical-align: middle;\n",
       "    }\n",
       "\n",
       "    .dataframe tbody tr th {\n",
       "        vertical-align: top;\n",
       "    }\n",
       "\n",
       "    .dataframe thead th {\n",
       "        text-align: right;\n",
       "    }\n",
       "</style>\n",
       "<table border=\"1\" class=\"dataframe\">\n",
       "  <thead>\n",
       "    <tr style=\"text-align: right;\">\n",
       "      <th></th>\n",
       "      <th>date</th>\n",
       "      <th>well_name</th>\n",
       "      <th>on_str_hrs</th>\n",
       "      <th>bottom_hole_psi</th>\n",
       "      <th>downhole_temp</th>\n",
       "      <th>Annulus_p</th>\n",
       "      <th>choke_size</th>\n",
       "      <th>whp</th>\n",
       "      <th>wht</th>\n",
       "      <th>cumm_oil_stb</th>\n",
       "      <th>cumm_form_gas_mscf</th>\n",
       "      <th>cumm_total_gas_mscf</th>\n",
       "      <th>cumm_water_bbl</th>\n",
       "    </tr>\n",
       "  </thead>\n",
       "  <tbody>\n",
       "    <tr>\n",
       "      <th>0</th>\n",
       "      <td>15-Feb-14</td>\n",
       "      <td>Well_#1</td>\n",
       "      <td>0.000</td>\n",
       "      <td>4,050</td>\n",
       "      <td>189.866</td>\n",
       "      <td>0</td>\n",
       "      <td>1.180</td>\n",
       "      <td>482.46</td>\n",
       "      <td>50.864</td>\n",
       "      <td>0</td>\n",
       "      <td>0</td>\n",
       "      <td>0</td>\n",
       "      <td>0</td>\n",
       "    </tr>\n",
       "    <tr>\n",
       "      <th>1</th>\n",
       "      <td>16-Feb-14</td>\n",
       "      <td>Well_#1</td>\n",
       "      <td>0.000</td>\n",
       "      <td>3,961</td>\n",
       "      <td>189.945</td>\n",
       "      <td>0</td>\n",
       "      <td>2.994</td>\n",
       "      <td>328.601</td>\n",
       "      <td>47.668</td>\n",
       "      <td>0</td>\n",
       "      <td>0</td>\n",
       "      <td>0</td>\n",
       "      <td>0</td>\n",
       "    </tr>\n",
       "    <tr>\n",
       "      <th>2</th>\n",
       "      <td>17-Feb-14</td>\n",
       "      <td>Well_#1</td>\n",
       "      <td>0.000</td>\n",
       "      <td>3,961</td>\n",
       "      <td>190.004</td>\n",
       "      <td>0</td>\n",
       "      <td>1.903</td>\n",
       "      <td>387.218</td>\n",
       "      <td>48.962</td>\n",
       "      <td>0</td>\n",
       "      <td>0</td>\n",
       "      <td>0</td>\n",
       "      <td>0</td>\n",
       "    </tr>\n",
       "    <tr>\n",
       "      <th>3</th>\n",
       "      <td>18-Feb-14</td>\n",
       "      <td>Well_#1</td>\n",
       "      <td>0.000</td>\n",
       "      <td>3,964</td>\n",
       "      <td>190.020</td>\n",
       "      <td>0</td>\n",
       "      <td>0.000</td>\n",
       "      <td>308.98</td>\n",
       "      <td>46.636</td>\n",
       "      <td>0</td>\n",
       "      <td>0</td>\n",
       "      <td>0</td>\n",
       "      <td>0</td>\n",
       "    </tr>\n",
       "    <tr>\n",
       "      <th>4</th>\n",
       "      <td>19-Feb-14</td>\n",
       "      <td>Well_#1</td>\n",
       "      <td>0.000</td>\n",
       "      <td>3,965</td>\n",
       "      <td>190.107</td>\n",
       "      <td>0</td>\n",
       "      <td>30.208</td>\n",
       "      <td>196.057</td>\n",
       "      <td>47.297</td>\n",
       "      <td>0</td>\n",
       "      <td>0</td>\n",
       "      <td>0</td>\n",
       "      <td>0</td>\n",
       "    </tr>\n",
       "  </tbody>\n",
       "</table>\n",
       "</div>"
      ],
      "text/plain": [
       "        date well_name  on_str_hrs bottom_hole_psi  downhole_temp Annulus_p  \\\n",
       "0  15-Feb-14   Well_#1       0.000           4,050        189.866         0   \n",
       "1  16-Feb-14   Well_#1       0.000           3,961        189.945         0   \n",
       "2  17-Feb-14   Well_#1       0.000           3,961        190.004         0   \n",
       "3  18-Feb-14   Well_#1       0.000           3,964        190.020         0   \n",
       "4  19-Feb-14   Well_#1       0.000           3,965        190.107         0   \n",
       "\n",
       "   choke_size      whp    wht cumm_oil_stb cumm_form_gas_mscf  \\\n",
       "0       1.180   482.46 50.864            0                  0   \n",
       "1       2.994  328.601 47.668            0                  0   \n",
       "2       1.903  387.218 48.962            0                  0   \n",
       "3       0.000   308.98 46.636            0                  0   \n",
       "4      30.208  196.057 47.297            0                  0   \n",
       "\n",
       "  cumm_total_gas_mscf cumm_water_bbl  \n",
       "0                   0              0  \n",
       "1                   0              0  \n",
       "2                   0              0  \n",
       "3                   0              0  \n",
       "4                   0              0  "
      ]
     },
     "execution_count": 15,
     "metadata": {},
     "output_type": "execute_result"
    }
   ],
   "source": [
    "# Viewing top 5 rows of the data\n",
    "well_df.head()"
   ]
  },
  {
   "cell_type": "markdown",
   "id": "557625da-d27f-40fb-a3cd-378a45d899dc",
   "metadata": {},
   "source": [
    "## Data Type check"
   ]
  },
  {
   "cell_type": "code",
   "execution_count": 25,
   "id": "6713fb44-ddd7-4bf3-bc3c-f5aa27d6b5d9",
   "metadata": {},
   "outputs": [
    {
     "name": "stdout",
     "output_type": "stream",
     "text": [
      "<class 'pandas.core.frame.DataFrame'>\n",
      "RangeIndex: 7955 entries, 0 to 7954\n",
      "Data columns (total 13 columns):\n",
      " #   Column               Non-Null Count  Dtype  \n",
      "---  ------               --------------  -----  \n",
      " 0   date                 7955 non-null   object \n",
      " 1   well_name            7955 non-null   object \n",
      " 2   on_str_hrs           7955 non-null   float64\n",
      " 3   bottom_hole_psi      7955 non-null   object \n",
      " 4   downhole_temp        7955 non-null   float64\n",
      " 5   Annulus_p            7955 non-null   object \n",
      " 6   choke_size           7955 non-null   float64\n",
      " 7   whp                  7955 non-null   object \n",
      " 8   wht                  7955 non-null   float64\n",
      " 9   cumm_oil_stb         7955 non-null   object \n",
      " 10  cumm_form_gas_mscf   7955 non-null   object \n",
      " 11  cumm_total_gas_mscf  7955 non-null   object \n",
      " 12  cumm_water_bbl       7955 non-null   object \n",
      "dtypes: float64(4), object(9)\n",
      "memory usage: 808.1+ KB\n"
     ]
    }
   ],
   "source": [
    "well_df.info()"
   ]
  },
  {
   "cell_type": "markdown",
   "id": "b1ab1647-6c13-4401-bfaa-7eb0b9e5d5e1",
   "metadata": {},
   "source": [
    "## Observations\n",
    "1. date should be converted to a date time type\n",
    "2. bottomhole pressure should be investigated and converted to float\n",
    "3. Annulus pressure should be investigated and converted to float\n",
    "4. well head pressure should be investigated and converted to float\n",
    "5. cummulative oil production should be investigated and converted to float\n",
    "6. cummulative formation gas production should be investigated and converted to float\n",
    "7. cummulative total gas should be investigated and converted to float\n",
    "8. cummulative water production should be investigated and converted to float"
   ]
  },
  {
   "cell_type": "code",
   "execution_count": 28,
   "id": "b0cf86a5-17fb-4578-978c-199e0509bdc3",
   "metadata": {},
   "outputs": [],
   "source": [
    "#1. \n",
    "well_df['date_conv']=pd.to_datetime(well_df['date'], format='%d-%b-%y')\n",
    "well_df"
   ]
  },
  {
   "cell_type": "code",
   "execution_count": 30,
   "id": "6e2bac58-a0c4-4456-a4d5-c949d2fcd2b4",
   "metadata": {},
   "outputs": [
    {
     "data": {
      "text/plain": [
       "Index(['date', 'well_name', 'on_str_hrs', 'bottom_hole_psi', 'downhole_temp',\n",
       "       'Annulus_p', 'choke_size', 'whp', 'wht', 'cumm_oil_stb',\n",
       "       'cumm_form_gas_mscf', 'cumm_total_gas_mscf', 'cumm_water_bbl',\n",
       "       'date_conv'],\n",
       "      dtype='object')"
      ]
     },
     "execution_count": 30,
     "metadata": {},
     "output_type": "execute_result"
    }
   ],
   "source": [
    "well_df.columns"
   ]
  },
  {
   "cell_type": "code",
   "execution_count": 38,
   "id": "ac205fe5-1938-46a6-9896-cdb0fda44178",
   "metadata": {},
   "outputs": [
    {
     "name": "stdout",
     "output_type": "stream",
     "text": [
      "<class 'pandas.core.frame.DataFrame'>\n",
      "RangeIndex: 7955 entries, 0 to 7954\n",
      "Data columns (total 14 columns):\n",
      " #   Column               Non-Null Count  Dtype         \n",
      "---  ------               --------------  -----         \n",
      " 0   date                 7955 non-null   object        \n",
      " 1   well_name            7955 non-null   object        \n",
      " 2   on_str_hrs           7955 non-null   float64       \n",
      " 3   bottom_hole_psi      7955 non-null   float64       \n",
      " 4   downhole_temp        7955 non-null   float64       \n",
      " 5   Annulus_p            7955 non-null   float64       \n",
      " 6   choke_size           7955 non-null   float64       \n",
      " 7   whp                  7955 non-null   float64       \n",
      " 8   wht                  7955 non-null   float64       \n",
      " 9   cumm_oil_stb         7955 non-null   float64       \n",
      " 10  cumm_form_gas_mscf   7955 non-null   float64       \n",
      " 11  cumm_total_gas_mscf  7955 non-null   float64       \n",
      " 12  cumm_water_bbl       7955 non-null   float64       \n",
      " 13  date_conv            7955 non-null   datetime64[ns]\n",
      "dtypes: datetime64[ns](1), float64(11), object(2)\n",
      "memory usage: 870.2+ KB\n"
     ]
    }
   ],
   "source": [
    "#2 - 8.\n",
    "# Float investigation and conversions\n",
    "to_conv_to_float= ['bottom_hole_psi',\n",
    "       'Annulus_p', 'whp', 'cumm_oil_stb',\n",
    "       'cumm_form_gas_mscf', 'cumm_total_gas_mscf', 'cumm_water_bbl']\n",
    "for col in to_conv_to_float:\n",
    "    # Using try-except block for investigation\n",
    "    try:\n",
    "        well_df[col]=well_df[col].str.replace(',', '')\n",
    "        well_df[col]=well_df[col].astype('float64')\n",
    "    except Exception as e:\n",
    "        print(f\"Error in parsing column: {col}\")\n",
    "        raise Exception(e)\n",
    "\n",
    "# Re-investigating\n",
    "well_df.info()"
   ]
  },
  {
   "cell_type": "markdown",
   "id": "2391e3ce-84f9-4e8c-a2a8-f7a615257ebc",
   "metadata": {},
   "source": [
    "## Observations\n",
    "1. There's a comma in the data and pandas is reading that as an object. Solution was to replace ',' with nothing before changing data type. This fixed everything.\n",
    "\n",
    "   Error in parsing column: bottom_hole_psi -> Exception: could not convert string to float: '4,050'"
   ]
  },
  {
   "cell_type": "code",
   "execution_count": null,
   "id": "ee2c7908-4699-430c-9c45-a20118d70828",
   "metadata": {},
   "outputs": [],
   "source": []
  },
  {
   "cell_type": "code",
   "execution_count": null,
   "id": "46a3417f-f80b-425b-9731-f3e67632d76a",
   "metadata": {},
   "outputs": [],
   "source": []
  },
  {
   "cell_type": "code",
   "execution_count": null,
   "id": "fdc71d81-dd2a-4598-a722-505382099292",
   "metadata": {},
   "outputs": [],
   "source": []
  },
  {
   "cell_type": "code",
   "execution_count": null,
   "id": "eb362230-c240-490b-881a-6078a39f067b",
   "metadata": {},
   "outputs": [],
   "source": [
    "# Initial removal of unimportant features. Checking the trend on on stream hours. Our assumption is that it's mostly 24hrs\n",
    "# Visualizing with a line plot across wells\n",
    "# plotting the GOR overtime in the different wellbores\n",
    "sns.relplot(x='date', y='Gas-oil ratio', data=train, hue='WellBore Name', kind='line', height=8, aspect=1)\n",
    "plt.grid()"
   ]
  },
  {
   "cell_type": "code",
   "execution_count": null,
   "id": "26a008db-ee71-4625-a843-094fb828bd54",
   "metadata": {},
   "outputs": [],
   "source": []
  },
  {
   "cell_type": "code",
   "execution_count": 23,
   "id": "3b0de4de-eacd-4ed3-8430-5b4d967040e7",
   "metadata": {},
   "outputs": [
    {
     "data": {
      "text/plain": [
       "array([[2, 1, 0],\n",
       "       [1, 1, 1],\n",
       "       [2, 1, 0],\n",
       "       [0, 0, 2],\n",
       "       [0, 1, 1],\n",
       "       [0, 0, 2],\n",
       "       [1, 1, 0],\n",
       "       [1, 1, 1],\n",
       "       [0, 0, 2],\n",
       "       [2, 0, 0]])"
      ]
     },
     "execution_count": 23,
     "metadata": {},
     "output_type": "execute_result"
    }
   ],
   "source": [
    "# Quickly testing multi-output classifier, can we use seperate count of classes in one label?\n",
    "# Yes we can, we can try this.\n",
    "\n",
    "from sklearn.datasets import make_classification\n",
    "from sklearn.multioutput import MultiOutputClassifier\n",
    "from sklearn.ensemble import RandomForestClassifier\n",
    "from sklearn.utils import shuffle\n",
    "import numpy as np\n",
    "X, y1 = make_classification(n_samples=10, n_features=100,\n",
    "                            n_informative=30, n_classes=3,\n",
    "                            random_state=1)\n",
    "y2 = shuffle(y1, random_state=1)\n",
    "y2[y2==2]=1\n",
    "y3 = shuffle(y1, random_state=2)\n",
    "\n",
    "Y = np.vstack((y1, y2, y3)).T\n",
    "n_samples, n_features = X.shape # 10,100\n",
    "n_outputs = Y.shape[1] # 3\n",
    "n_classes = 3\n",
    "forest = RandomForestClassifier(random_state=1)\n",
    "multi_target_forest = MultiOutputClassifier(forest, n_jobs=2)\n",
    "multi_target_forest.fit(X, Y).predict(X)"
   ]
  },
  {
   "cell_type": "code",
   "execution_count": null,
   "id": "d7190600-77ab-4568-bca9-72ea73ed687c",
   "metadata": {},
   "outputs": [],
   "source": []
  }
 ],
 "metadata": {
  "kernelspec": {
   "display_name": "Python 3 (ipykernel)",
   "language": "python",
   "name": "python3"
  },
  "language_info": {
   "codemirror_mode": {
    "name": "ipython",
    "version": 3
   },
   "file_extension": ".py",
   "mimetype": "text/x-python",
   "name": "python",
   "nbconvert_exporter": "python",
   "pygments_lexer": "ipython3",
   "version": "3.13.5"
  }
 },
 "nbformat": 4,
 "nbformat_minor": 5
}
